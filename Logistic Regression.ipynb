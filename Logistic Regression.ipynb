{
 "cells": [
  {
   "cell_type": "markdown",
   "id": "e0db144d",
   "metadata": {},
   "source": [
    "### Importing Libraries"
   ]
  },
  {
   "cell_type": "code",
   "execution_count": 1,
   "id": "617a5e37",
   "metadata": {},
   "outputs": [],
   "source": [
    "import pandas as pd \n",
    "import numpy as np \n",
    "from sklearn.linear_model import LogisticRegression\n",
    "from sklearn.model_selection import train_test_split\n",
    "from sklearn.preprocessing import StandardScaler\n",
    "from sklearn.pipeline import make_pipeline\n",
    "from sklearn.metrics import accuracy_score,confusion_matrix, precision_score\n",
    "import matplotlib.pyplot as plt"
   ]
  },
  {
   "cell_type": "markdown",
   "id": "a25caa4c",
   "metadata": {},
   "source": [
    "### Data exploration"
   ]
  },
  {
   "cell_type": "code",
   "execution_count": 2,
   "id": "07431e4d",
   "metadata": {},
   "outputs": [],
   "source": [
    "data = pd.read_csv('diabetes2.csv')"
   ]
  },
  {
   "cell_type": "code",
   "execution_count": 3,
   "id": "2c9fde39",
   "metadata": {},
   "outputs": [
    {
     "data": {
      "text/html": [
       "<div>\n",
       "<style scoped>\n",
       "    .dataframe tbody tr th:only-of-type {\n",
       "        vertical-align: middle;\n",
       "    }\n",
       "\n",
       "    .dataframe tbody tr th {\n",
       "        vertical-align: top;\n",
       "    }\n",
       "\n",
       "    .dataframe thead th {\n",
       "        text-align: right;\n",
       "    }\n",
       "</style>\n",
       "<table border=\"1\" class=\"dataframe\">\n",
       "  <thead>\n",
       "    <tr style=\"text-align: right;\">\n",
       "      <th></th>\n",
       "      <th>Pregnancies</th>\n",
       "      <th>Glucose</th>\n",
       "      <th>BloodPressure</th>\n",
       "      <th>SkinThickness</th>\n",
       "      <th>Insulin</th>\n",
       "      <th>BMI</th>\n",
       "      <th>DiabetesPedigreeFunction</th>\n",
       "      <th>Age</th>\n",
       "      <th>Outcome</th>\n",
       "    </tr>\n",
       "  </thead>\n",
       "  <tbody>\n",
       "    <tr>\n",
       "      <th>763</th>\n",
       "      <td>10</td>\n",
       "      <td>101</td>\n",
       "      <td>76</td>\n",
       "      <td>48</td>\n",
       "      <td>180</td>\n",
       "      <td>32.9</td>\n",
       "      <td>0.171</td>\n",
       "      <td>63</td>\n",
       "      <td>0</td>\n",
       "    </tr>\n",
       "    <tr>\n",
       "      <th>764</th>\n",
       "      <td>2</td>\n",
       "      <td>122</td>\n",
       "      <td>70</td>\n",
       "      <td>27</td>\n",
       "      <td>0</td>\n",
       "      <td>36.8</td>\n",
       "      <td>0.340</td>\n",
       "      <td>27</td>\n",
       "      <td>0</td>\n",
       "    </tr>\n",
       "    <tr>\n",
       "      <th>765</th>\n",
       "      <td>5</td>\n",
       "      <td>121</td>\n",
       "      <td>72</td>\n",
       "      <td>23</td>\n",
       "      <td>112</td>\n",
       "      <td>26.2</td>\n",
       "      <td>0.245</td>\n",
       "      <td>30</td>\n",
       "      <td>0</td>\n",
       "    </tr>\n",
       "    <tr>\n",
       "      <th>766</th>\n",
       "      <td>1</td>\n",
       "      <td>126</td>\n",
       "      <td>60</td>\n",
       "      <td>0</td>\n",
       "      <td>0</td>\n",
       "      <td>30.1</td>\n",
       "      <td>0.349</td>\n",
       "      <td>47</td>\n",
       "      <td>1</td>\n",
       "    </tr>\n",
       "    <tr>\n",
       "      <th>767</th>\n",
       "      <td>1</td>\n",
       "      <td>93</td>\n",
       "      <td>70</td>\n",
       "      <td>31</td>\n",
       "      <td>0</td>\n",
       "      <td>30.4</td>\n",
       "      <td>0.315</td>\n",
       "      <td>23</td>\n",
       "      <td>0</td>\n",
       "    </tr>\n",
       "  </tbody>\n",
       "</table>\n",
       "</div>"
      ],
      "text/plain": [
       "     Pregnancies  Glucose  BloodPressure  SkinThickness  Insulin   BMI  \\\n",
       "763           10      101             76             48      180  32.9   \n",
       "764            2      122             70             27        0  36.8   \n",
       "765            5      121             72             23      112  26.2   \n",
       "766            1      126             60              0        0  30.1   \n",
       "767            1       93             70             31        0  30.4   \n",
       "\n",
       "     DiabetesPedigreeFunction  Age  Outcome  \n",
       "763                     0.171   63        0  \n",
       "764                     0.340   27        0  \n",
       "765                     0.245   30        0  \n",
       "766                     0.349   47        1  \n",
       "767                     0.315   23        0  "
      ]
     },
     "execution_count": 3,
     "metadata": {},
     "output_type": "execute_result"
    }
   ],
   "source": [
    "data.tail()"
   ]
  },
  {
   "cell_type": "code",
   "execution_count": 4,
   "id": "7c055c21",
   "metadata": {},
   "outputs": [
    {
     "data": {
      "text/plain": [
       "(768, 9)"
      ]
     },
     "execution_count": 4,
     "metadata": {},
     "output_type": "execute_result"
    }
   ],
   "source": [
    "data.shape"
   ]
  },
  {
   "cell_type": "markdown",
   "id": "48f333b9",
   "metadata": {},
   "source": [
    "### Splitting the dataset for train and test "
   ]
  },
  {
   "cell_type": "code",
   "execution_count": 5,
   "id": "5e843f87",
   "metadata": {},
   "outputs": [],
   "source": [
    "X = data.iloc[:,:-1]\n",
    "Y = data['Outcome']\n",
    "X_train , X_test , Y_train , Y_test = train_test_split(X,Y,test_size = 0.15, random_state=1)"
   ]
  },
  {
   "cell_type": "code",
   "execution_count": 6,
   "id": "3c944927",
   "metadata": {},
   "outputs": [
    {
     "data": {
      "image/png": "[encoded data removed]",
      "text/plain": [
       "<Figure size 640x480 with 1 Axes>"
      ]
     },
     "metadata": {},
     "output_type": "display_data"
    }
   ],
   "source": [
    "unique, counts = np.unique(Y, return_counts=True)\n",
    "plt.bar(unique, counts)\n",
    "plt.xticks([0, 1], ['Non_DB', 'DB'])\n",
    "plt.ylabel('Count')\n",
    "plt.show()"
   ]
  },
  {
   "cell_type": "markdown",
   "id": "f903c0b9",
   "metadata": {},
   "source": [
    "### Building the pipeline with the Standard Scaler and Logistic regression \n",
    "\n",
    "Standard Scaler is employed in logistic regression to address the issue of disparate scales among input features. Logistic regression models make predictions based on weighted sums of features, and when these features are on different scales, it can hinder the optimization process. The use of Standard Scaler transforms the features to have zero mean and unit variance, ensuring that each feature contributes more uniformly to the model. This not only aids in faster convergence during training, especially when optimization algorithms like Gradient Descent are utilized, but it also prevents certain features from dominating the learning process due to their scale. Ultimately, employing Standard Scaler in logistic regression contributes to a more stable and effective training process, leading to improved model performance."
   ]
  },
  {
   "cell_type": "code",
   "execution_count": 12,
   "id": "1edbee1a",
   "metadata": {},
   "outputs": [],
   "source": [
    "log_reg = make_pipeline(StandardScaler(), LogisticRegression())\n",
    "\n",
    "log_reg.fit(X_train,Y_train)\n",
    "\n",
    "predictions = log_reg.predict(X_test)"
   ]
  },
  {
   "cell_type": "code",
   "execution_count": 13,
   "id": "45539b95",
   "metadata": {},
   "outputs": [
    {
     "name": "stdout",
     "output_type": "stream",
     "text": [
      "Accuracy Score 0.7327586206896551\n",
      "Confusion Matrix: \n",
      " [[67  9]\n",
      " [22 18]]\n"
     ]
    }
   ],
   "source": [
    "print('Accuracy Score', accuracy_score(Y_test, predictions))\n",
    "print('Confusion Matrix: \\n', confusion_matrix(Y_test, predictions))"
   ]
  },
  {
   "cell_type": "markdown",
   "id": "e965edb5",
   "metadata": {},
   "source": [
    "#### Using the stratifying option in Train test split and using class_wieght = 'balanced' to see if the model will do good if the class imbalance is worked upon"
   ]
  },
  {
   "cell_type": "code",
   "execution_count": 14,
   "id": "f040611e",
   "metadata": {},
   "outputs": [],
   "source": [
    "X_train , X_test , Y_train , Y_test = train_test_split(X,Y,test_size = 0.15, random_state=1, stratify = Y)"
   ]
  },
  {
   "cell_type": "code",
   "execution_count": 15,
   "id": "6e9208fd",
   "metadata": {},
   "outputs": [
    {
     "name": "stdout",
     "output_type": "stream",
     "text": [
      "Accuracy Score 0.7327586206896551\n",
      "Confusion Matrix: \n",
      " [[67  9]\n",
      " [22 18]]\n"
     ]
    }
   ],
   "source": [
    "log_reg = make_pipeline(StandardScaler(), LogisticRegression())\n",
    "\n",
    "log_reg.fit(X_train,Y_train)\n",
    "\n",
    "predictions = log_reg.predict(X_test)\n",
    "print('Accuracy Score', accuracy_score(Y_test, predictions))\n",
    "print('Confusion Matrix: \\n', confusion_matrix(Y_test, predictions))\n"
   ]
  },
  {
   "cell_type": "code",
   "execution_count": 16,
   "id": "67909ce8",
   "metadata": {},
   "outputs": [
    {
     "name": "stdout",
     "output_type": "stream",
     "text": [
      "Accuracy Score 0.7413793103448276\n",
      "Confusion Matrix: \n",
      " [[58 18]\n",
      " [12 28]]\n",
      "Precision Score 0.6086956521739131\n"
     ]
    }
   ],
   "source": [
    "log_reg = make_pipeline(StandardScaler(), LogisticRegression(class_weight = 'balanced'))\n",
    "\n",
    "log_reg.fit(X_train,Y_train)\n",
    "\n",
    "predictions = log_reg.predict(X_test)\n",
    "print('Accuracy Score', accuracy_score(Y_test, predictions))\n",
    "print('Confusion Matrix: \\n', confusion_matrix(Y_test, predictions))\n",
    "print('Precision Score', precision_score(Y_test, predictions))"
   ]
  },
  {
   "cell_type": "markdown",
   "id": "b678f100",
   "metadata": {},
   "source": [
    "The False Negatives are pretty high comparing both the stratified split and using the class weight function as balanced and as the model is for predicting Diabetes and it is better to avoid False Negatives"
   ]
  },
  {
   "cell_type": "code",
   "execution_count": null,
   "id": "6394b7be",
   "metadata": {},
   "outputs": [],
   "source": []
  }
 ],
 "metadata": {
  "kernelspec": {
   "display_name": "Python 3 (ipykernel)",
   "language": "python",
   "name": "python3"
  },
  "language_info": {
   "codemirror_mode": {
    "name": "ipython",
    "version": 3
   },
   "file_extension": ".py",
   "mimetype": "text/x-python",
   "name": "python",
   "nbconvert_exporter": "python",
   "pygments_lexer": "ipython3",
   "version": "3.11.5"
  }
 },
 "nbformat": 4,
 "nbformat_minor": 5
}
